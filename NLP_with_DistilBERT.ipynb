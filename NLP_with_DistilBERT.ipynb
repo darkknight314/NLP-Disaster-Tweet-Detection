{
  "nbformat": 4,
  "nbformat_minor": 0,
  "metadata": {
    "colab": {
      "name": "Untitled13.ipynb",
      "provenance": [],
      "mount_file_id": "1M7bkJjrSaYwGUfePkPOjP9XXKaiv0ooH",
      "authorship_tag": "ABX9TyPRBk8byM9KVZOwg6+pAiaa",
      "include_colab_link": true
    },
    "kernelspec": {
      "name": "python3",
      "display_name": "Python 3"
    },
    "accelerator": "GPU",
    "widgets": {
      "application/vnd.jupyter.widget-state+json": {
        "a7441945114e48979f7317c37c5ba189": {
          "model_module": "@jupyter-widgets/controls",
          "model_name": "HBoxModel",
          "state": {
            "_view_name": "HBoxView",
            "_dom_classes": [],
            "_model_name": "HBoxModel",
            "_view_module": "@jupyter-widgets/controls",
            "_model_module_version": "1.5.0",
            "_view_count": null,
            "_view_module_version": "1.5.0",
            "box_style": "",
            "layout": "IPY_MODEL_eea49cab142c4a61812d46c554eee518",
            "_model_module": "@jupyter-widgets/controls",
            "children": [
              "IPY_MODEL_85a5b9afd9b441629784f6d7fecfaaab",
              "IPY_MODEL_634fc68e53a84b3db3a7a5c23f6ee2e2"
            ]
          }
        },
        "eea49cab142c4a61812d46c554eee518": {
          "model_module": "@jupyter-widgets/base",
          "model_name": "LayoutModel",
          "state": {
            "_view_name": "LayoutView",
            "grid_template_rows": null,
            "right": null,
            "justify_content": null,
            "_view_module": "@jupyter-widgets/base",
            "overflow": null,
            "_model_module_version": "1.2.0",
            "_view_count": null,
            "flex_flow": null,
            "width": null,
            "min_width": null,
            "border": null,
            "align_items": null,
            "bottom": null,
            "_model_module": "@jupyter-widgets/base",
            "top": null,
            "grid_column": null,
            "overflow_y": null,
            "overflow_x": null,
            "grid_auto_flow": null,
            "grid_area": null,
            "grid_template_columns": null,
            "flex": null,
            "_model_name": "LayoutModel",
            "justify_items": null,
            "grid_row": null,
            "max_height": null,
            "align_content": null,
            "visibility": null,
            "align_self": null,
            "height": null,
            "min_height": null,
            "padding": null,
            "grid_auto_rows": null,
            "grid_gap": null,
            "max_width": null,
            "order": null,
            "_view_module_version": "1.2.0",
            "grid_template_areas": null,
            "object_position": null,
            "object_fit": null,
            "grid_auto_columns": null,
            "margin": null,
            "display": null,
            "left": null
          }
        },
        "85a5b9afd9b441629784f6d7fecfaaab": {
          "model_module": "@jupyter-widgets/controls",
          "model_name": "FloatProgressModel",
          "state": {
            "_view_name": "ProgressView",
            "style": "IPY_MODEL_5ce5fbaff8924839bb7608fac26a80b7",
            "_dom_classes": [],
            "description": "Downloading: 100%",
            "_model_name": "FloatProgressModel",
            "bar_style": "success",
            "max": 231508,
            "_view_module": "@jupyter-widgets/controls",
            "_model_module_version": "1.5.0",
            "value": 231508,
            "_view_count": null,
            "_view_module_version": "1.5.0",
            "orientation": "horizontal",
            "min": 0,
            "description_tooltip": null,
            "_model_module": "@jupyter-widgets/controls",
            "layout": "IPY_MODEL_a70455c3cd1f430097783d54477e6bc5"
          }
        },
        "634fc68e53a84b3db3a7a5c23f6ee2e2": {
          "model_module": "@jupyter-widgets/controls",
          "model_name": "HTMLModel",
          "state": {
            "_view_name": "HTMLView",
            "style": "IPY_MODEL_422634952353411f805c3c26a5541401",
            "_dom_classes": [],
            "description": "",
            "_model_name": "HTMLModel",
            "placeholder": "​",
            "_view_module": "@jupyter-widgets/controls",
            "_model_module_version": "1.5.0",
            "value": " 232k/232k [00:00&lt;00:00, 344kB/s]",
            "_view_count": null,
            "_view_module_version": "1.5.0",
            "description_tooltip": null,
            "_model_module": "@jupyter-widgets/controls",
            "layout": "IPY_MODEL_2fbb2500630a4581b9ae5782ddfe9210"
          }
        },
        "5ce5fbaff8924839bb7608fac26a80b7": {
          "model_module": "@jupyter-widgets/controls",
          "model_name": "ProgressStyleModel",
          "state": {
            "_view_name": "StyleView",
            "_model_name": "ProgressStyleModel",
            "description_width": "initial",
            "_view_module": "@jupyter-widgets/base",
            "_model_module_version": "1.5.0",
            "_view_count": null,
            "_view_module_version": "1.2.0",
            "bar_color": null,
            "_model_module": "@jupyter-widgets/controls"
          }
        },
        "a70455c3cd1f430097783d54477e6bc5": {
          "model_module": "@jupyter-widgets/base",
          "model_name": "LayoutModel",
          "state": {
            "_view_name": "LayoutView",
            "grid_template_rows": null,
            "right": null,
            "justify_content": null,
            "_view_module": "@jupyter-widgets/base",
            "overflow": null,
            "_model_module_version": "1.2.0",
            "_view_count": null,
            "flex_flow": null,
            "width": null,
            "min_width": null,
            "border": null,
            "align_items": null,
            "bottom": null,
            "_model_module": "@jupyter-widgets/base",
            "top": null,
            "grid_column": null,
            "overflow_y": null,
            "overflow_x": null,
            "grid_auto_flow": null,
            "grid_area": null,
            "grid_template_columns": null,
            "flex": null,
            "_model_name": "LayoutModel",
            "justify_items": null,
            "grid_row": null,
            "max_height": null,
            "align_content": null,
            "visibility": null,
            "align_self": null,
            "height": null,
            "min_height": null,
            "padding": null,
            "grid_auto_rows": null,
            "grid_gap": null,
            "max_width": null,
            "order": null,
            "_view_module_version": "1.2.0",
            "grid_template_areas": null,
            "object_position": null,
            "object_fit": null,
            "grid_auto_columns": null,
            "margin": null,
            "display": null,
            "left": null
          }
        },
        "422634952353411f805c3c26a5541401": {
          "model_module": "@jupyter-widgets/controls",
          "model_name": "DescriptionStyleModel",
          "state": {
            "_view_name": "StyleView",
            "_model_name": "DescriptionStyleModel",
            "description_width": "",
            "_view_module": "@jupyter-widgets/base",
            "_model_module_version": "1.5.0",
            "_view_count": null,
            "_view_module_version": "1.2.0",
            "_model_module": "@jupyter-widgets/controls"
          }
        },
        "2fbb2500630a4581b9ae5782ddfe9210": {
          "model_module": "@jupyter-widgets/base",
          "model_name": "LayoutModel",
          "state": {
            "_view_name": "LayoutView",
            "grid_template_rows": null,
            "right": null,
            "justify_content": null,
            "_view_module": "@jupyter-widgets/base",
            "overflow": null,
            "_model_module_version": "1.2.0",
            "_view_count": null,
            "flex_flow": null,
            "width": null,
            "min_width": null,
            "border": null,
            "align_items": null,
            "bottom": null,
            "_model_module": "@jupyter-widgets/base",
            "top": null,
            "grid_column": null,
            "overflow_y": null,
            "overflow_x": null,
            "grid_auto_flow": null,
            "grid_area": null,
            "grid_template_columns": null,
            "flex": null,
            "_model_name": "LayoutModel",
            "justify_items": null,
            "grid_row": null,
            "max_height": null,
            "align_content": null,
            "visibility": null,
            "align_self": null,
            "height": null,
            "min_height": null,
            "padding": null,
            "grid_auto_rows": null,
            "grid_gap": null,
            "max_width": null,
            "order": null,
            "_view_module_version": "1.2.0",
            "grid_template_areas": null,
            "object_position": null,
            "object_fit": null,
            "grid_auto_columns": null,
            "margin": null,
            "display": null,
            "left": null
          }
        },
        "30badd3ffdb948dda2a2018b47d6eecb": {
          "model_module": "@jupyter-widgets/controls",
          "model_name": "HBoxModel",
          "state": {
            "_view_name": "HBoxView",
            "_dom_classes": [],
            "_model_name": "HBoxModel",
            "_view_module": "@jupyter-widgets/controls",
            "_model_module_version": "1.5.0",
            "_view_count": null,
            "_view_module_version": "1.5.0",
            "box_style": "",
            "layout": "IPY_MODEL_432003ed9b7f4e2a9901a602edc798b0",
            "_model_module": "@jupyter-widgets/controls",
            "children": [
              "IPY_MODEL_dc10494f5b974f679fd8ce46d2586d89",
              "IPY_MODEL_e87b794332894b1b91193d2b83d5daa1"
            ]
          }
        },
        "432003ed9b7f4e2a9901a602edc798b0": {
          "model_module": "@jupyter-widgets/base",
          "model_name": "LayoutModel",
          "state": {
            "_view_name": "LayoutView",
            "grid_template_rows": null,
            "right": null,
            "justify_content": null,
            "_view_module": "@jupyter-widgets/base",
            "overflow": null,
            "_model_module_version": "1.2.0",
            "_view_count": null,
            "flex_flow": null,
            "width": null,
            "min_width": null,
            "border": null,
            "align_items": null,
            "bottom": null,
            "_model_module": "@jupyter-widgets/base",
            "top": null,
            "grid_column": null,
            "overflow_y": null,
            "overflow_x": null,
            "grid_auto_flow": null,
            "grid_area": null,
            "grid_template_columns": null,
            "flex": null,
            "_model_name": "LayoutModel",
            "justify_items": null,
            "grid_row": null,
            "max_height": null,
            "align_content": null,
            "visibility": null,
            "align_self": null,
            "height": null,
            "min_height": null,
            "padding": null,
            "grid_auto_rows": null,
            "grid_gap": null,
            "max_width": null,
            "order": null,
            "_view_module_version": "1.2.0",
            "grid_template_areas": null,
            "object_position": null,
            "object_fit": null,
            "grid_auto_columns": null,
            "margin": null,
            "display": null,
            "left": null
          }
        },
        "dc10494f5b974f679fd8ce46d2586d89": {
          "model_module": "@jupyter-widgets/controls",
          "model_name": "FloatProgressModel",
          "state": {
            "_view_name": "ProgressView",
            "style": "IPY_MODEL_e0c84eeb5ffb4ee9af6c11a1f51a95d1",
            "_dom_classes": [],
            "description": "Downloading: 100%",
            "_model_name": "FloatProgressModel",
            "bar_style": "success",
            "max": 442,
            "_view_module": "@jupyter-widgets/controls",
            "_model_module_version": "1.5.0",
            "value": 442,
            "_view_count": null,
            "_view_module_version": "1.5.0",
            "orientation": "horizontal",
            "min": 0,
            "description_tooltip": null,
            "_model_module": "@jupyter-widgets/controls",
            "layout": "IPY_MODEL_89346bf6bcfe4ef098f5f077f83c1eee"
          }
        },
        "e87b794332894b1b91193d2b83d5daa1": {
          "model_module": "@jupyter-widgets/controls",
          "model_name": "HTMLModel",
          "state": {
            "_view_name": "HTMLView",
            "style": "IPY_MODEL_95ceb2bab4f940fa8ddcbdeebb67d28c",
            "_dom_classes": [],
            "description": "",
            "_model_name": "HTMLModel",
            "placeholder": "​",
            "_view_module": "@jupyter-widgets/controls",
            "_model_module_version": "1.5.0",
            "value": " 442/442 [00:00&lt;00:00, 1.13kB/s]",
            "_view_count": null,
            "_view_module_version": "1.5.0",
            "description_tooltip": null,
            "_model_module": "@jupyter-widgets/controls",
            "layout": "IPY_MODEL_3f131949126546f0a65a096d137accea"
          }
        },
        "e0c84eeb5ffb4ee9af6c11a1f51a95d1": {
          "model_module": "@jupyter-widgets/controls",
          "model_name": "ProgressStyleModel",
          "state": {
            "_view_name": "StyleView",
            "_model_name": "ProgressStyleModel",
            "description_width": "initial",
            "_view_module": "@jupyter-widgets/base",
            "_model_module_version": "1.5.0",
            "_view_count": null,
            "_view_module_version": "1.2.0",
            "bar_color": null,
            "_model_module": "@jupyter-widgets/controls"
          }
        },
        "89346bf6bcfe4ef098f5f077f83c1eee": {
          "model_module": "@jupyter-widgets/base",
          "model_name": "LayoutModel",
          "state": {
            "_view_name": "LayoutView",
            "grid_template_rows": null,
            "right": null,
            "justify_content": null,
            "_view_module": "@jupyter-widgets/base",
            "overflow": null,
            "_model_module_version": "1.2.0",
            "_view_count": null,
            "flex_flow": null,
            "width": null,
            "min_width": null,
            "border": null,
            "align_items": null,
            "bottom": null,
            "_model_module": "@jupyter-widgets/base",
            "top": null,
            "grid_column": null,
            "overflow_y": null,
            "overflow_x": null,
            "grid_auto_flow": null,
            "grid_area": null,
            "grid_template_columns": null,
            "flex": null,
            "_model_name": "LayoutModel",
            "justify_items": null,
            "grid_row": null,
            "max_height": null,
            "align_content": null,
            "visibility": null,
            "align_self": null,
            "height": null,
            "min_height": null,
            "padding": null,
            "grid_auto_rows": null,
            "grid_gap": null,
            "max_width": null,
            "order": null,
            "_view_module_version": "1.2.0",
            "grid_template_areas": null,
            "object_position": null,
            "object_fit": null,
            "grid_auto_columns": null,
            "margin": null,
            "display": null,
            "left": null
          }
        },
        "95ceb2bab4f940fa8ddcbdeebb67d28c": {
          "model_module": "@jupyter-widgets/controls",
          "model_name": "DescriptionStyleModel",
          "state": {
            "_view_name": "StyleView",
            "_model_name": "DescriptionStyleModel",
            "description_width": "",
            "_view_module": "@jupyter-widgets/base",
            "_model_module_version": "1.5.0",
            "_view_count": null,
            "_view_module_version": "1.2.0",
            "_model_module": "@jupyter-widgets/controls"
          }
        },
        "3f131949126546f0a65a096d137accea": {
          "model_module": "@jupyter-widgets/base",
          "model_name": "LayoutModel",
          "state": {
            "_view_name": "LayoutView",
            "grid_template_rows": null,
            "right": null,
            "justify_content": null,
            "_view_module": "@jupyter-widgets/base",
            "overflow": null,
            "_model_module_version": "1.2.0",
            "_view_count": null,
            "flex_flow": null,
            "width": null,
            "min_width": null,
            "border": null,
            "align_items": null,
            "bottom": null,
            "_model_module": "@jupyter-widgets/base",
            "top": null,
            "grid_column": null,
            "overflow_y": null,
            "overflow_x": null,
            "grid_auto_flow": null,
            "grid_area": null,
            "grid_template_columns": null,
            "flex": null,
            "_model_name": "LayoutModel",
            "justify_items": null,
            "grid_row": null,
            "max_height": null,
            "align_content": null,
            "visibility": null,
            "align_self": null,
            "height": null,
            "min_height": null,
            "padding": null,
            "grid_auto_rows": null,
            "grid_gap": null,
            "max_width": null,
            "order": null,
            "_view_module_version": "1.2.0",
            "grid_template_areas": null,
            "object_position": null,
            "object_fit": null,
            "grid_auto_columns": null,
            "margin": null,
            "display": null,
            "left": null
          }
        },
        "787fe44f20ad4832981df1e579c3f4da": {
          "model_module": "@jupyter-widgets/controls",
          "model_name": "HBoxModel",
          "state": {
            "_view_name": "HBoxView",
            "_dom_classes": [],
            "_model_name": "HBoxModel",
            "_view_module": "@jupyter-widgets/controls",
            "_model_module_version": "1.5.0",
            "_view_count": null,
            "_view_module_version": "1.5.0",
            "box_style": "",
            "layout": "IPY_MODEL_eb14a9900e2f464d821bf1cafdbabd7e",
            "_model_module": "@jupyter-widgets/controls",
            "children": [
              "IPY_MODEL_66b679f77c094c9ea8065e090da6b21c",
              "IPY_MODEL_b695dab18ccd4d089e0a9df15b9f5021"
            ]
          }
        },
        "eb14a9900e2f464d821bf1cafdbabd7e": {
          "model_module": "@jupyter-widgets/base",
          "model_name": "LayoutModel",
          "state": {
            "_view_name": "LayoutView",
            "grid_template_rows": null,
            "right": null,
            "justify_content": null,
            "_view_module": "@jupyter-widgets/base",
            "overflow": null,
            "_model_module_version": "1.2.0",
            "_view_count": null,
            "flex_flow": null,
            "width": null,
            "min_width": null,
            "border": null,
            "align_items": null,
            "bottom": null,
            "_model_module": "@jupyter-widgets/base",
            "top": null,
            "grid_column": null,
            "overflow_y": null,
            "overflow_x": null,
            "grid_auto_flow": null,
            "grid_area": null,
            "grid_template_columns": null,
            "flex": null,
            "_model_name": "LayoutModel",
            "justify_items": null,
            "grid_row": null,
            "max_height": null,
            "align_content": null,
            "visibility": null,
            "align_self": null,
            "height": null,
            "min_height": null,
            "padding": null,
            "grid_auto_rows": null,
            "grid_gap": null,
            "max_width": null,
            "order": null,
            "_view_module_version": "1.2.0",
            "grid_template_areas": null,
            "object_position": null,
            "object_fit": null,
            "grid_auto_columns": null,
            "margin": null,
            "display": null,
            "left": null
          }
        },
        "66b679f77c094c9ea8065e090da6b21c": {
          "model_module": "@jupyter-widgets/controls",
          "model_name": "FloatProgressModel",
          "state": {
            "_view_name": "ProgressView",
            "style": "IPY_MODEL_0d53c74a83954ec3a0c356a937e6adbc",
            "_dom_classes": [],
            "description": "Downloading: 100%",
            "_model_name": "FloatProgressModel",
            "bar_style": "success",
            "max": 267967963,
            "_view_module": "@jupyter-widgets/controls",
            "_model_module_version": "1.5.0",
            "value": 267967963,
            "_view_count": null,
            "_view_module_version": "1.5.0",
            "orientation": "horizontal",
            "min": 0,
            "description_tooltip": null,
            "_model_module": "@jupyter-widgets/controls",
            "layout": "IPY_MODEL_ae6b6cb97b35435c90d3e366e59c6a68"
          }
        },
        "b695dab18ccd4d089e0a9df15b9f5021": {
          "model_module": "@jupyter-widgets/controls",
          "model_name": "HTMLModel",
          "state": {
            "_view_name": "HTMLView",
            "style": "IPY_MODEL_ae3f5fc4094e40918a55645a5b1dcc26",
            "_dom_classes": [],
            "description": "",
            "_model_name": "HTMLModel",
            "placeholder": "​",
            "_view_module": "@jupyter-widgets/controls",
            "_model_module_version": "1.5.0",
            "value": " 268M/268M [00:21&lt;00:00, 12.3MB/s]",
            "_view_count": null,
            "_view_module_version": "1.5.0",
            "description_tooltip": null,
            "_model_module": "@jupyter-widgets/controls",
            "layout": "IPY_MODEL_9ac26db6d4d145b28a07cdf45560c8fc"
          }
        },
        "0d53c74a83954ec3a0c356a937e6adbc": {
          "model_module": "@jupyter-widgets/controls",
          "model_name": "ProgressStyleModel",
          "state": {
            "_view_name": "StyleView",
            "_model_name": "ProgressStyleModel",
            "description_width": "initial",
            "_view_module": "@jupyter-widgets/base",
            "_model_module_version": "1.5.0",
            "_view_count": null,
            "_view_module_version": "1.2.0",
            "bar_color": null,
            "_model_module": "@jupyter-widgets/controls"
          }
        },
        "ae6b6cb97b35435c90d3e366e59c6a68": {
          "model_module": "@jupyter-widgets/base",
          "model_name": "LayoutModel",
          "state": {
            "_view_name": "LayoutView",
            "grid_template_rows": null,
            "right": null,
            "justify_content": null,
            "_view_module": "@jupyter-widgets/base",
            "overflow": null,
            "_model_module_version": "1.2.0",
            "_view_count": null,
            "flex_flow": null,
            "width": null,
            "min_width": null,
            "border": null,
            "align_items": null,
            "bottom": null,
            "_model_module": "@jupyter-widgets/base",
            "top": null,
            "grid_column": null,
            "overflow_y": null,
            "overflow_x": null,
            "grid_auto_flow": null,
            "grid_area": null,
            "grid_template_columns": null,
            "flex": null,
            "_model_name": "LayoutModel",
            "justify_items": null,
            "grid_row": null,
            "max_height": null,
            "align_content": null,
            "visibility": null,
            "align_self": null,
            "height": null,
            "min_height": null,
            "padding": null,
            "grid_auto_rows": null,
            "grid_gap": null,
            "max_width": null,
            "order": null,
            "_view_module_version": "1.2.0",
            "grid_template_areas": null,
            "object_position": null,
            "object_fit": null,
            "grid_auto_columns": null,
            "margin": null,
            "display": null,
            "left": null
          }
        },
        "ae3f5fc4094e40918a55645a5b1dcc26": {
          "model_module": "@jupyter-widgets/controls",
          "model_name": "DescriptionStyleModel",
          "state": {
            "_view_name": "StyleView",
            "_model_name": "DescriptionStyleModel",
            "description_width": "",
            "_view_module": "@jupyter-widgets/base",
            "_model_module_version": "1.5.0",
            "_view_count": null,
            "_view_module_version": "1.2.0",
            "_model_module": "@jupyter-widgets/controls"
          }
        },
        "9ac26db6d4d145b28a07cdf45560c8fc": {
          "model_module": "@jupyter-widgets/base",
          "model_name": "LayoutModel",
          "state": {
            "_view_name": "LayoutView",
            "grid_template_rows": null,
            "right": null,
            "justify_content": null,
            "_view_module": "@jupyter-widgets/base",
            "overflow": null,
            "_model_module_version": "1.2.0",
            "_view_count": null,
            "flex_flow": null,
            "width": null,
            "min_width": null,
            "border": null,
            "align_items": null,
            "bottom": null,
            "_model_module": "@jupyter-widgets/base",
            "top": null,
            "grid_column": null,
            "overflow_y": null,
            "overflow_x": null,
            "grid_auto_flow": null,
            "grid_area": null,
            "grid_template_columns": null,
            "flex": null,
            "_model_name": "LayoutModel",
            "justify_items": null,
            "grid_row": null,
            "max_height": null,
            "align_content": null,
            "visibility": null,
            "align_self": null,
            "height": null,
            "min_height": null,
            "padding": null,
            "grid_auto_rows": null,
            "grid_gap": null,
            "max_width": null,
            "order": null,
            "_view_module_version": "1.2.0",
            "grid_template_areas": null,
            "object_position": null,
            "object_fit": null,
            "grid_auto_columns": null,
            "margin": null,
            "display": null,
            "left": null
          }
        }
      }
    }
  },
  "cells": [
    {
      "cell_type": "markdown",
      "metadata": {
        "id": "view-in-github",
        "colab_type": "text"
      },
      "source": [
        "<a href=\"https://colab.research.google.com/github/darkknight314/NLP-Disaster-Tweet-Detection/blob/master/NLP_with_DistilBERT.ipynb\" target=\"_parent\"><img src=\"https://colab.research.google.com/assets/colab-badge.svg\" alt=\"Open In Colab\"/></a>"
      ]
    },
    {
      "cell_type": "code",
      "metadata": {
        "id": "oI5VekMOYY-s",
        "colab_type": "code",
        "colab": {}
      },
      "source": [
        "!pip install transformers"
      ],
      "execution_count": null,
      "outputs": []
    },
    {
      "cell_type": "code",
      "metadata": {
        "id": "M7BZKKfQZ0tB",
        "colab_type": "code",
        "colab": {
          "base_uri": "https://localhost:8080/",
          "height": 34
        },
        "outputId": "e1cbf0c2-842a-4fc8-dbc6-6c715d8d4726"
      },
      "source": [
        "cd /content/drive/My Drive/NLP Disaster Tweet"
      ],
      "execution_count": 2,
      "outputs": [
        {
          "output_type": "stream",
          "text": [
            "/content/drive/My Drive/NLP Disaster Tweet\n"
          ],
          "name": "stdout"
        }
      ]
    },
    {
      "cell_type": "code",
      "metadata": {
        "id": "_xjkMDqPYcXg",
        "colab_type": "code",
        "colab": {}
      },
      "source": [
        "import pandas as pd\n",
        "import numpy as np\n",
        "import torch\n",
        "from transformers import DistilBertTokenizer, DistilBertForSequenceClassification, AdamW, get_linear_schedule_with_warmup\n",
        "from torch.utils.data import TensorDataset, random_split\n",
        "from torch.utils.data import DataLoader"
      ],
      "execution_count": 3,
      "outputs": []
    },
    {
      "cell_type": "code",
      "metadata": {
        "id": "XUIdKlj-Yecr",
        "colab_type": "code",
        "colab": {
          "base_uri": "https://localhost:8080/",
          "height": 34
        },
        "outputId": "c1c8d7a1-81f4-4b52-fe1a-0867a0881bd2"
      },
      "source": [
        "use_cuda = torch.cuda.is_available()\n",
        "device = torch.device(\"cuda\" if use_cuda else \"cpu\")\n",
        "print(device)"
      ],
      "execution_count": 4,
      "outputs": [
        {
          "output_type": "stream",
          "text": [
            "cuda\n"
          ],
          "name": "stdout"
        }
      ]
    },
    {
      "cell_type": "code",
      "metadata": {
        "id": "V06_KrZDYtwA",
        "colab_type": "code",
        "colab": {
          "base_uri": "https://localhost:8080/",
          "height": 66,
          "referenced_widgets": [
            "a7441945114e48979f7317c37c5ba189",
            "eea49cab142c4a61812d46c554eee518",
            "85a5b9afd9b441629784f6d7fecfaaab",
            "634fc68e53a84b3db3a7a5c23f6ee2e2",
            "5ce5fbaff8924839bb7608fac26a80b7",
            "a70455c3cd1f430097783d54477e6bc5",
            "422634952353411f805c3c26a5541401",
            "2fbb2500630a4581b9ae5782ddfe9210"
          ]
        },
        "outputId": "158f9175-6913-42c7-c5e5-c3adb7f50783"
      },
      "source": [
        "train_data = pd.read_csv(\"train.csv\")\n",
        "train_text, train_labels = train_data.text.values, train_data.target.values\n",
        "tokenizer = DistilBertTokenizer.from_pretrained('distilbert-base-uncased')\n",
        "\n",
        "input_ids = []\n",
        "attention_masks = []\n",
        "for sentence in train_text:\n",
        "    encoded_dict = tokenizer.encode_plus(sentence, \n",
        "                                           max_length=200,\n",
        "                                           pad_to_max_length=True,\n",
        "                                           return_attention_mask=True, \n",
        "                                           return_tensors='pt')\n",
        "    input_ids.append(encoded_dict['input_ids'])\n",
        "    attention_masks.append(encoded_dict['attention_mask'])\n",
        "input_ids = torch.cat(input_ids)\n",
        "attention_masks = torch.cat(attention_masks)\n",
        "labels = torch.tensor(train_labels)"
      ],
      "execution_count": 5,
      "outputs": [
        {
          "output_type": "display_data",
          "data": {
            "application/vnd.jupyter.widget-view+json": {
              "model_id": "a7441945114e48979f7317c37c5ba189",
              "version_minor": 0,
              "version_major": 2
            },
            "text/plain": [
              "HBox(children=(FloatProgress(value=0.0, description='Downloading', max=231508.0, style=ProgressStyle(descripti…"
            ]
          },
          "metadata": {
            "tags": []
          }
        },
        {
          "output_type": "stream",
          "text": [
            "\n"
          ],
          "name": "stdout"
        }
      ]
    },
    {
      "cell_type": "code",
      "metadata": {
        "id": "35y-0ps9psGB",
        "colab_type": "code",
        "colab": {
          "base_uri": "https://localhost:8080/",
          "height": 52
        },
        "outputId": "bed4a373-06c2-413f-d70f-9ad257b18b39"
      },
      "source": [
        "dataset = TensorDataset(input_ids, attention_masks, labels)\n",
        "train_size = int(0.9*len(dataset))\n",
        "val_size = len(dataset) - train_size\n",
        "train_dataset, val_dataset = random_split(dataset, [train_size, val_size])\n",
        "print(\"Train size: \", train_size)\n",
        "print(\"Validation size: \", val_size)"
      ],
      "execution_count": 6,
      "outputs": [
        {
          "output_type": "stream",
          "text": [
            "Train size:  6851\n",
            "Validation size:  762\n"
          ],
          "name": "stdout"
        }
      ]
    },
    {
      "cell_type": "code",
      "metadata": {
        "id": "Rpg3fg9oqUdY",
        "colab_type": "code",
        "colab": {}
      },
      "source": [
        "BATCH_SIZE = 16\n",
        "train_loader = DataLoader(train_dataset, \n",
        "                          batch_size = BATCH_SIZE, \n",
        "                          shuffle=True, \n",
        "                          num_workers =2)\n",
        "val_loader = DataLoader(val_dataset, \n",
        "                          batch_size = BATCH_SIZE, \n",
        "                          shuffle=False, \n",
        "                          num_workers =2)"
      ],
      "execution_count": 7,
      "outputs": []
    },
    {
      "cell_type": "code",
      "metadata": {
        "id": "2BlonL63rAoX",
        "colab_type": "code",
        "colab": {
          "base_uri": "https://localhost:8080/",
          "height": 116,
          "referenced_widgets": [
            "30badd3ffdb948dda2a2018b47d6eecb",
            "432003ed9b7f4e2a9901a602edc798b0",
            "dc10494f5b974f679fd8ce46d2586d89",
            "e87b794332894b1b91193d2b83d5daa1",
            "e0c84eeb5ffb4ee9af6c11a1f51a95d1",
            "89346bf6bcfe4ef098f5f077f83c1eee",
            "95ceb2bab4f940fa8ddcbdeebb67d28c",
            "3f131949126546f0a65a096d137accea",
            "787fe44f20ad4832981df1e579c3f4da",
            "eb14a9900e2f464d821bf1cafdbabd7e",
            "66b679f77c094c9ea8065e090da6b21c",
            "b695dab18ccd4d089e0a9df15b9f5021",
            "0d53c74a83954ec3a0c356a937e6adbc",
            "ae6b6cb97b35435c90d3e366e59c6a68",
            "ae3f5fc4094e40918a55645a5b1dcc26",
            "9ac26db6d4d145b28a07cdf45560c8fc"
          ]
        },
        "outputId": "0f1a3ad9-bddb-4ef7-e3bb-5768b719e810"
      },
      "source": [
        "model = DistilBertForSequenceClassification.from_pretrained('distilbert-base-uncased',\n",
        "                                                            num_labels = 2,\n",
        "                                                            output_hidden_states = False,\n",
        "                                                            output_attentions = False)\n",
        "model.to(device)\n",
        "optimizer = AdamW(model.parameters(), lr = 2e-5)\n",
        "EPOCHS = 2\n",
        "total_steps = EPOCHS * len(train_loader)\n",
        "scheduler = get_linear_schedule_with_warmup(optimizer, \n",
        "                                            num_warmup_steps = 0, # Default value in run_glue.py\n",
        "                                            num_training_steps = total_steps)"
      ],
      "execution_count": 8,
      "outputs": [
        {
          "output_type": "display_data",
          "data": {
            "application/vnd.jupyter.widget-view+json": {
              "model_id": "30badd3ffdb948dda2a2018b47d6eecb",
              "version_minor": 0,
              "version_major": 2
            },
            "text/plain": [
              "HBox(children=(FloatProgress(value=0.0, description='Downloading', max=442.0, style=ProgressStyle(description_…"
            ]
          },
          "metadata": {
            "tags": []
          }
        },
        {
          "output_type": "stream",
          "text": [
            "\n"
          ],
          "name": "stdout"
        },
        {
          "output_type": "display_data",
          "data": {
            "application/vnd.jupyter.widget-view+json": {
              "model_id": "787fe44f20ad4832981df1e579c3f4da",
              "version_minor": 0,
              "version_major": 2
            },
            "text/plain": [
              "HBox(children=(FloatProgress(value=0.0, description='Downloading', max=267967963.0, style=ProgressStyle(descri…"
            ]
          },
          "metadata": {
            "tags": []
          }
        },
        {
          "output_type": "stream",
          "text": [
            "\n"
          ],
          "name": "stdout"
        }
      ]
    },
    {
      "cell_type": "code",
      "metadata": {
        "id": "QChpleGesUsv",
        "colab_type": "code",
        "colab": {}
      },
      "source": [
        "def calculate_accuracy(logits, labels):\n",
        "    logits = logits.detach().cpu().numpy()\n",
        "    labels = labels.detach().cpu().numpy()\n",
        "    return np.sum(np.argmax(logits, axis = 1)==labels)"
      ],
      "execution_count": 9,
      "outputs": []
    },
    {
      "cell_type": "code",
      "metadata": {
        "id": "H6IuVpLusZH4",
        "colab_type": "code",
        "colab": {
          "base_uri": "https://localhost:8080/",
          "height": 1000
        },
        "outputId": "38e56946-12d6-4428-af90-64e5d0c341d2"
      },
      "source": [
        "for epoch in range(EPOCHS):\n",
        "    print(\"TRAINING EPOCH : \",epoch)\n",
        "    model.train()\n",
        "    total_train_loss = 0.0\n",
        "    for step, batch in enumerate(train_loader):\n",
        "        if step%10==0 and step != 0:\n",
        "            print(\"Batch number: \",step, \"Avg training loss: \", total_train_loss/step)\n",
        "        b_input = batch[0].to(device)\n",
        "        b_mask = batch[1].to(device)\n",
        "        b_labels = batch[2].to(device)\n",
        "\n",
        "        model.zero_grad()\n",
        "\n",
        "        loss, logits = model(b_input, \n",
        "                             attention_mask = b_mask,\n",
        "                             labels = b_labels)\n",
        "        total_train_loss += loss.item()\n",
        "        loss.backward()\n",
        "        torch.nn.utils.clip_grad_norm_(model.parameters(), 1.0)\n",
        "        optimizer.step()\n",
        "        scheduler.step()\n",
        "    \n",
        "    avg_train_loss = total_train_loss/len(train_loader)\n",
        "    print(\"Avg training loss: \", avg_train_loss)\n",
        "\n",
        "    model.eval()\n",
        "    total_eval_loss = 0.0\n",
        "    eval_running_accuracy = 0.0\n",
        "    base_accuracy = 0.0\n",
        "    for step, batch in enumerate(val_loader):\n",
        "        with torch.no_grad():\n",
        "            b_input = batch[0].to(device)\n",
        "            b_mask = batch[1].to(device)\n",
        "            b_labels = batch[2].to(device)\n",
        "            base_accuracy += torch.sum(b_labels).item()\n",
        "            loss, logits = model(b_input, \n",
        "                             attention_mask = b_mask,\n",
        "                             labels = b_labels)\n",
        "            \n",
        "            total_eval_loss +=loss.item()\n",
        "\n",
        "            eval_running_accuracy += calculate_accuracy(logits, b_labels)\n",
        "    print(\"Avg Eval Loss: \",total_eval_loss/len(val_loader))\n",
        "    print(\"Base Accuracy by ZeroR: \", max(base_accuracy/val_size,1-base_accuracy/val_size))\n",
        "    print(\"Eval accuracy: \", eval_running_accuracy/val_size)\n",
        "\n"
      ],
      "execution_count": 11,
      "outputs": [
        {
          "output_type": "stream",
          "text": [
            "TRAINING EPOCH :  0\n",
            "Batch number:  10 Avg training loss:  0.24492996782064438\n",
            "Batch number:  20 Avg training loss:  0.24366549886763095\n",
            "Batch number:  30 Avg training loss:  0.24696029697855312\n",
            "Batch number:  40 Avg training loss:  0.25910961274057626\n",
            "Batch number:  50 Avg training loss:  0.2553685140609741\n",
            "Batch number:  60 Avg training loss:  0.2562888233611981\n",
            "Batch number:  70 Avg training loss:  0.2598535322717258\n",
            "Batch number:  80 Avg training loss:  0.26704302644357086\n",
            "Batch number:  90 Avg training loss:  0.2595378298726347\n",
            "Batch number:  100 Avg training loss:  0.2615086667239666\n",
            "Batch number:  110 Avg training loss:  0.25761914469979025\n",
            "Batch number:  120 Avg training loss:  0.2606455112497012\n",
            "Batch number:  130 Avg training loss:  0.2587973081148588\n",
            "Batch number:  140 Avg training loss:  0.2630460672080517\n",
            "Batch number:  150 Avg training loss:  0.26332449227571486\n",
            "Batch number:  160 Avg training loss:  0.2655961964279413\n",
            "Batch number:  170 Avg training loss:  0.267421694976442\n",
            "Batch number:  180 Avg training loss:  0.27000048243337205\n",
            "Batch number:  190 Avg training loss:  0.26868872717022896\n",
            "Batch number:  200 Avg training loss:  0.27189417589455844\n",
            "Batch number:  210 Avg training loss:  0.2735362428639616\n",
            "Batch number:  220 Avg training loss:  0.27115877619521184\n",
            "Batch number:  230 Avg training loss:  0.2731475606884645\n",
            "Batch number:  240 Avg training loss:  0.27523920328045887\n",
            "Batch number:  250 Avg training loss:  0.28112934720516203\n",
            "Batch number:  260 Avg training loss:  0.2815103185291474\n",
            "Batch number:  270 Avg training loss:  0.2795211588067037\n",
            "Batch number:  280 Avg training loss:  0.2809971708804369\n",
            "Batch number:  290 Avg training loss:  0.2819556975159152\n",
            "Batch number:  300 Avg training loss:  0.2808484450479348\n",
            "Batch number:  310 Avg training loss:  0.28345925408986306\n",
            "Batch number:  320 Avg training loss:  0.28267503206152467\n",
            "Batch number:  330 Avg training loss:  0.28292572030966934\n",
            "Batch number:  340 Avg training loss:  0.2828662827830104\n",
            "Batch number:  350 Avg training loss:  0.2836127874893802\n",
            "Batch number:  360 Avg training loss:  0.28426549438801074\n",
            "Batch number:  370 Avg training loss:  0.282268744948748\n",
            "Batch number:  380 Avg training loss:  0.2813474025773375\n",
            "Batch number:  390 Avg training loss:  0.2806153199038444\n",
            "Batch number:  400 Avg training loss:  0.28268023220822214\n",
            "Batch number:  410 Avg training loss:  0.28274189613577794\n",
            "Batch number:  420 Avg training loss:  0.2832293112540529\n",
            "Avg training loss:  0.2854130593386841\n",
            "Avg Eval Loss:  0.4039815446982781\n",
            "Base Accuracy by ZeroR:  0.5551181102362205\n",
            "Eval accuracy:  0.8333333333333334\n",
            "TRAINING EPOCH :  1\n",
            "Batch number:  10 Avg training loss:  0.2436870664358139\n",
            "Batch number:  20 Avg training loss:  0.27407018169760705\n",
            "Batch number:  30 Avg training loss:  0.26681369692087176\n",
            "Batch number:  40 Avg training loss:  0.29345901757478715\n",
            "Batch number:  50 Avg training loss:  0.2861346058547497\n",
            "Batch number:  60 Avg training loss:  0.2807892815520366\n",
            "Batch number:  70 Avg training loss:  0.2766636517431055\n",
            "Batch number:  80 Avg training loss:  0.2731832381337881\n",
            "Batch number:  90 Avg training loss:  0.27026629257533286\n",
            "Batch number:  100 Avg training loss:  0.2755554895848036\n",
            "Batch number:  110 Avg training loss:  0.2709426884624091\n",
            "Batch number:  120 Avg training loss:  0.27173692068705957\n",
            "Batch number:  130 Avg training loss:  0.2742632720906001\n",
            "Batch number:  140 Avg training loss:  0.2755688787038837\n",
            "Batch number:  150 Avg training loss:  0.2737548463046551\n",
            "Batch number:  160 Avg training loss:  0.27126082037575544\n",
            "Batch number:  170 Avg training loss:  0.2724105100859614\n",
            "Batch number:  180 Avg training loss:  0.27504694846769173\n",
            "Batch number:  190 Avg training loss:  0.27906081107886216\n",
            "Batch number:  200 Avg training loss:  0.28201546769589186\n",
            "Batch number:  210 Avg training loss:  0.2805857142877011\n",
            "Batch number:  220 Avg training loss:  0.2794854002581401\n",
            "Batch number:  230 Avg training loss:  0.27880257568929506\n",
            "Batch number:  240 Avg training loss:  0.27993014783908926\n",
            "Batch number:  250 Avg training loss:  0.2804264883697033\n",
            "Batch number:  260 Avg training loss:  0.28072559458131974\n",
            "Batch number:  270 Avg training loss:  0.28354966886065625\n",
            "Batch number:  280 Avg training loss:  0.28160505337374553\n",
            "Batch number:  290 Avg training loss:  0.2784622369398331\n",
            "Batch number:  300 Avg training loss:  0.279496928229928\n",
            "Batch number:  310 Avg training loss:  0.27883305256405183\n",
            "Batch number:  320 Avg training loss:  0.2793313245754689\n",
            "Batch number:  330 Avg training loss:  0.27844582069100754\n",
            "Batch number:  340 Avg training loss:  0.2783797482138171\n",
            "Batch number:  350 Avg training loss:  0.2805875847807952\n",
            "Batch number:  360 Avg training loss:  0.28176869828667905\n",
            "Batch number:  370 Avg training loss:  0.28290272731636024\n",
            "Batch number:  380 Avg training loss:  0.28434497112114177\n",
            "Batch number:  390 Avg training loss:  0.28393918056136525\n",
            "Batch number:  400 Avg training loss:  0.2839027219638228\n",
            "Batch number:  410 Avg training loss:  0.28321694544539217\n",
            "Batch number:  420 Avg training loss:  0.28391647283874805\n",
            "Avg training loss:  0.2847382657420941\n",
            "Avg Eval Loss:  0.4039815446982781\n",
            "Base Accuracy by ZeroR:  0.5551181102362205\n",
            "Eval accuracy:  0.8333333333333334\n"
          ],
          "name": "stdout"
        }
      ]
    }
  ]
}